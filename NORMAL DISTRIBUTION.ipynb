{
 "cells": [
  {
   "cell_type": "markdown",
   "metadata": {},
   "source": [
    "# <h1><center>NORMAL DISTRIBUTION</center></h1>"
   ]
  },
  {
   "cell_type": "markdown",
   "metadata": {},
   "source": [
    "## 1)Normal distribution, also known as the Gaussian distribution, is a probability distribution that is symmetric about the mean\n",
    "\n",
    "## 2)showing that data near the mean are more frequent in occurrence than data far from the mean. \n",
    "\n",
    "## 3)In graph form, normal distribution will appear as a bell curve.\n",
    "\n",
    "## 4)A normal distribution is the proper term for a probability bell curve.\n",
    "\n",
    "## 5)In a normal distribution the mean is zero and the standard deviation is 1. It has zero skew and a kurtosis of 3.\n",
    "\n",
    "## 6)Normal distributions are symmetrical , but not all symmetrical distributions are normal.\n",
    "\n",
    "## 7)In reality, most pricing distributions are not perfectly normal.\n",
    "\n",
    "## 8)For a normal distribution, 68% of the observations are within +/- one standard deviation of the mean, 95% are within +/- two standard deviations, and 99.7% are within +- three standard deviations."
   ]
  },
  {
   "cell_type": "code",
   "execution_count": 7,
   "metadata": {},
   "outputs": [
    {
     "data": {
      "text/plain": [
       "<matplotlib.axes._subplots.AxesSubplot at 0x1f652ac50f0>"
      ]
     },
     "execution_count": 7,
     "metadata": {},
     "output_type": "execute_result"
    },
    {
     "data": {
      "image/png": "[encoded data removed]",
      "text/plain": [
       "<Figure size 432x288 with 1 Axes>"
      ]
     },
     "metadata": {
      "needs_background": "light"
     },
     "output_type": "display_data"
    }
   ],
   "source": [
    "import seaborn as sns\n",
    "import numpy as np\n",
    "normal_rvs = np.random.normal(loc = 0,scale = 1,size = 500)\n",
    "sns.distplot(normal_rvs)"
   ]
  },
  {
   "cell_type": "code",
   "execution_count": 11,
   "metadata": {},
   "outputs": [
    {
     "name": "stdout",
     "output_type": "stream",
     "text": [
      "mean of above distribution 0.029923220729727223\n",
      "standard deviation of above distribution 0.964679696934306\n"
     ]
    }
   ],
   "source": [
    "print('mean of above distribution',normal_rvs.mean())\n",
    "print('standard deviation of above distribution',normal_rvs.std())"
   ]
  },
  {
   "cell_type": "code",
   "execution_count": null,
   "metadata": {},
   "outputs": [],
   "source": []
  }
 ],
 "metadata": {
  "kernelspec": {
   "display_name": "Python 3",
   "language": "python",
   "name": "python3"
  },
  "language_info": {
   "codemirror_mode": {
    "name": "ipython",
    "version": 3
   },
   "file_extension": ".py",
   "mimetype": "text/x-python",
   "name": "python",
   "nbconvert_exporter": "python",
   "pygments_lexer": "ipython3",
   "version": "3.7.3"
  }
 },
 "nbformat": 4,
 "nbformat_minor": 2
}
